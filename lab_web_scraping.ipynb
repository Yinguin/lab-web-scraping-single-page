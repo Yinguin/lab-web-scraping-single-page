{
 "cells": [
  {
   "cell_type": "markdown",
   "id": "f834c5d7",
   "metadata": {},
   "source": [
    "## Scraping popular songs"
   ]
  },
  {
   "cell_type": "markdown",
   "id": "16814a66",
   "metadata": {},
   "source": [
    "#### Trello Board: https://trello.com/b/rI55TUuT/gnod-song-recommendations"
   ]
  },
  {
   "cell_type": "markdown",
   "id": "69512b40",
   "metadata": {},
   "source": [
    "### Find data on the internet about currently popular songs. \n",
    "#### Billboard maintains a weekly Top 100 of \"hot\" songs here: https://www.billboard.com/charts/hot-100. Scrape the current top 100 songs and their respective artists, and put the information into a pandas dataframe."
   ]
  },
  {
   "cell_type": "code",
   "execution_count": 1,
   "id": "55ec35bc",
   "metadata": {},
   "outputs": [],
   "source": [
    "import requests\n",
    "from bs4 import BeautifulSoup\n",
    "import pandas as pd"
   ]
  },
  {
   "cell_type": "code",
   "execution_count": 2,
   "id": "8bdf9486",
   "metadata": {},
   "outputs": [
    {
     "data": {
      "text/plain": [
       "200"
      ]
     },
     "execution_count": 2,
     "metadata": {},
     "output_type": "execute_result"
    }
   ],
   "source": [
    "# Getting the html code of the web page\n",
    "\n",
    "r = requests.get('https://www.billboard.com/charts/hot-100')\n",
    "r.status_code"
   ]
  },
  {
   "cell_type": "code",
   "execution_count": 3,
   "id": "b84f43a3",
   "metadata": {
    "scrolled": false
   },
   "outputs": [],
   "source": [
    "# Parsing the html code\n",
    "\n",
    "soup = BeautifulSoup(r.content, 'html.parser')\n",
    "# soup"
   ]
  },
  {
   "cell_type": "code",
   "execution_count": 4,
   "id": "2e393d7e",
   "metadata": {},
   "outputs": [],
   "source": [
    "# Find all the chart result rows\n",
    "\n",
    "chart_entries = soup.find_all('li', class_=\"lrv-u-width-100p\")\n",
    "# chart_entries"
   ]
  },
  {
   "cell_type": "code",
   "execution_count": 5,
   "id": "719afaf2",
   "metadata": {},
   "outputs": [],
   "source": [
    "# Initialize lists to store the song and artist names\n",
    "\n",
    "songs = []\n",
    "artists = []"
   ]
  },
  {
   "cell_type": "code",
   "execution_count": 6,
   "id": "fd27008c",
   "metadata": {
    "scrolled": false
   },
   "outputs": [],
   "source": [
    "# Extract song titles\n",
    "\n",
    "for chart in chart_entries:\n",
    "    song = chart.find('h3')\n",
    "    if song is not None:\n",
    "        songs.append(song.get_text(strip=True))"
   ]
  },
  {
   "cell_type": "code",
   "execution_count": 7,
   "id": "78a8d090",
   "metadata": {},
   "outputs": [],
   "source": [
    "# Extract artists\n",
    "\n",
    "for i in range(0, len(chart_entries), 2):\n",
    "    chart = chart_entries[i]\n",
    "    artist = chart.find('span')\n",
    "    artists.append(artist.get_text(strip=True))"
   ]
  },
  {
   "cell_type": "code",
   "execution_count": 8,
   "id": "2ed395ed",
   "metadata": {},
   "outputs": [
    {
     "data": {
      "text/html": [
       "<div>\n",
       "<style scoped>\n",
       "    .dataframe tbody tr th:only-of-type {\n",
       "        vertical-align: middle;\n",
       "    }\n",
       "\n",
       "    .dataframe tbody tr th {\n",
       "        vertical-align: top;\n",
       "    }\n",
       "\n",
       "    .dataframe thead th {\n",
       "        text-align: right;\n",
       "    }\n",
       "</style>\n",
       "<table border=\"1\" class=\"dataframe\">\n",
       "  <thead>\n",
       "    <tr style=\"text-align: right;\">\n",
       "      <th></th>\n",
       "      <th>Song</th>\n",
       "      <th>Artist</th>\n",
       "    </tr>\n",
       "  </thead>\n",
       "  <tbody>\n",
       "    <tr>\n",
       "      <th>0</th>\n",
       "      <td>Last Night</td>\n",
       "      <td>Morgan Wallen</td>\n",
       "    </tr>\n",
       "    <tr>\n",
       "      <th>1</th>\n",
       "      <td>Flowers</td>\n",
       "      <td>Miley Cyrus</td>\n",
       "    </tr>\n",
       "    <tr>\n",
       "      <th>2</th>\n",
       "      <td>Fast Car</td>\n",
       "      <td>Luke Combs</td>\n",
       "    </tr>\n",
       "    <tr>\n",
       "      <th>3</th>\n",
       "      <td>Calm Down</td>\n",
       "      <td>Rema &amp; Selena Gomez</td>\n",
       "    </tr>\n",
       "    <tr>\n",
       "      <th>4</th>\n",
       "      <td>All My Life</td>\n",
       "      <td>Lil Durk Featuring J. Cole</td>\n",
       "    </tr>\n",
       "    <tr>\n",
       "      <th>...</th>\n",
       "      <td>...</td>\n",
       "      <td>...</td>\n",
       "    </tr>\n",
       "    <tr>\n",
       "      <th>95</th>\n",
       "      <td>Save Me</td>\n",
       "      <td>Jelly Roll With Lainey Wilson</td>\n",
       "    </tr>\n",
       "    <tr>\n",
       "      <th>96</th>\n",
       "      <td>Yandel 150</td>\n",
       "      <td>Yandel &amp; Feid</td>\n",
       "    </tr>\n",
       "    <tr>\n",
       "      <th>97</th>\n",
       "      <td>Beso</td>\n",
       "      <td>Rosalia &amp; Rauw Alejandro</td>\n",
       "    </tr>\n",
       "    <tr>\n",
       "      <th>98</th>\n",
       "      <td>I Wrote The Book</td>\n",
       "      <td>Morgan Wallen</td>\n",
       "    </tr>\n",
       "    <tr>\n",
       "      <th>99</th>\n",
       "      <td>Hummingbird</td>\n",
       "      <td>Metro Boomin &amp; James Blake</td>\n",
       "    </tr>\n",
       "  </tbody>\n",
       "</table>\n",
       "<p>100 rows × 2 columns</p>\n",
       "</div>"
      ],
      "text/plain": [
       "                Song                         Artist\n",
       "0         Last Night                  Morgan Wallen\n",
       "1            Flowers                    Miley Cyrus\n",
       "2           Fast Car                     Luke Combs\n",
       "3          Calm Down            Rema & Selena Gomez\n",
       "4        All My Life     Lil Durk Featuring J. Cole\n",
       "..               ...                            ...\n",
       "95           Save Me  Jelly Roll With Lainey Wilson\n",
       "96        Yandel 150                  Yandel & Feid\n",
       "97              Beso       Rosalia & Rauw Alejandro\n",
       "98  I Wrote The Book                  Morgan Wallen\n",
       "99       Hummingbird     Metro Boomin & James Blake\n",
       "\n",
       "[100 rows x 2 columns]"
      ]
     },
     "execution_count": 8,
     "metadata": {},
     "output_type": "execute_result"
    }
   ],
   "source": [
    "# Create a pandas dataframe with the song and artist data\n",
    "\n",
    "data = {'Song': songs, 'Artist': artists}\n",
    "df_billboard = pd.DataFrame(data)\n",
    "df_billboard"
   ]
  },
  {
   "cell_type": "markdown",
   "id": "518d1897",
   "metadata": {},
   "source": [
    "#### Wikipedia maintains a large collection of lists of songs: https://en.wikipedia.org/wiki/Lists_of_songs"
   ]
  },
  {
   "cell_type": "code",
   "execution_count": 9,
   "id": "3a745245",
   "metadata": {},
   "outputs": [],
   "source": [
    "# Define a function to scrape Wikipedia websites for lists of Billboard Hot 100 number one singles from a specified range of years\n",
    "\n",
    "def scrape_wiki(start_year, end_year):\n",
    "    base_url = 'https://en.wikipedia.org/wiki/List_of_Billboard_Hot_100_number_ones_of_{}'\n",
    "    songs = []  \n",
    "    artists = []  \n",
    "\n",
    "    # Iterate over each year in the specified range\n",
    "    for year in range(start_year, end_year + 1):\n",
    "        url = base_url.format(year)  \n",
    "        response = requests.get(url)  \n",
    "        soup = BeautifulSoup(response.text, 'html.parser')  \n",
    "        table = soup.find_all('table')[1]  \n",
    "\n",
    "        # Iterate over each row in the table\n",
    "        for row in table.find_all('tr'):\n",
    "            cells = row.find_all('td')  # Find all cells in the row\n",
    "            if len(cells) >= 4:  # Check if the row has at least 4 cells\n",
    "                if year <= 2011:  # Condition based on the year to determine cell indexing\n",
    "                    song = cells[2].get_text(strip=True).strip('\"')  \n",
    "                    artist = cells[3].get_text(strip=True) \n",
    "                else:\n",
    "                    song = cells[1].get_text(strip=True).strip('\"')  \n",
    "                    artist = cells[2].get_text(strip=True) \n",
    "                songs.append(song)\n",
    "                artists.append(artist)\n",
    "\n",
    "    data = {'Song': songs, 'Artist': artists}  \n",
    "    df = pd.DataFrame(data) \n",
    "    return df  "
   ]
  },
  {
   "cell_type": "code",
   "execution_count": 10,
   "id": "899d1024",
   "metadata": {},
   "outputs": [
    {
     "data": {
      "text/html": [
       "<div>\n",
       "<style scoped>\n",
       "    .dataframe tbody tr th:only-of-type {\n",
       "        vertical-align: middle;\n",
       "    }\n",
       "\n",
       "    .dataframe tbody tr th {\n",
       "        vertical-align: top;\n",
       "    }\n",
       "\n",
       "    .dataframe thead th {\n",
       "        text-align: right;\n",
       "    }\n",
       "</style>\n",
       "<table border=\"1\" class=\"dataframe\">\n",
       "  <thead>\n",
       "    <tr style=\"text-align: right;\">\n",
       "      <th></th>\n",
       "      <th>Song</th>\n",
       "      <th>Artist</th>\n",
       "    </tr>\n",
       "  </thead>\n",
       "  <tbody>\n",
       "    <tr>\n",
       "      <th>0</th>\n",
       "      <td>The Chipmunk Song (Christmas Don't Be Late)</td>\n",
       "      <td>The ChipmunkswithDavid Seville</td>\n",
       "    </tr>\n",
       "    <tr>\n",
       "      <th>1</th>\n",
       "      <td>Smoke Gets in Your Eyes</td>\n",
       "      <td>The Platters</td>\n",
       "    </tr>\n",
       "    <tr>\n",
       "      <th>2</th>\n",
       "      <td>Stagger Lee</td>\n",
       "      <td>Lloyd Price</td>\n",
       "    </tr>\n",
       "    <tr>\n",
       "      <th>3</th>\n",
       "      <td>Venus</td>\n",
       "      <td>Frankie Avalon</td>\n",
       "    </tr>\n",
       "    <tr>\n",
       "      <th>4</th>\n",
       "      <td>Come Softly to Me</td>\n",
       "      <td>The Fleetwoods</td>\n",
       "    </tr>\n",
       "    <tr>\n",
       "      <th>...</th>\n",
       "      <td>...</td>\n",
       "      <td>...</td>\n",
       "    </tr>\n",
       "    <tr>\n",
       "      <th>1052</th>\n",
       "      <td>As It Was</td>\n",
       "      <td>Harry Styles</td>\n",
       "    </tr>\n",
       "    <tr>\n",
       "      <th>1053</th>\n",
       "      <td>Bad Habit</td>\n",
       "      <td>Steve Lacy</td>\n",
       "    </tr>\n",
       "    <tr>\n",
       "      <th>1054</th>\n",
       "      <td>Unholy</td>\n",
       "      <td>Sam SmithandKim Petras</td>\n",
       "    </tr>\n",
       "    <tr>\n",
       "      <th>1055</th>\n",
       "      <td>Anti-Hero</td>\n",
       "      <td>Taylor Swift</td>\n",
       "    </tr>\n",
       "    <tr>\n",
       "      <th>1056</th>\n",
       "      <td>All I Want for Christmas Is You</td>\n",
       "      <td>Mariah Carey</td>\n",
       "    </tr>\n",
       "  </tbody>\n",
       "</table>\n",
       "<p>1057 rows × 2 columns</p>\n",
       "</div>"
      ],
      "text/plain": [
       "                                             Song  \\\n",
       "0     The Chipmunk Song (Christmas Don't Be Late)   \n",
       "1                         Smoke Gets in Your Eyes   \n",
       "2                                     Stagger Lee   \n",
       "3                                           Venus   \n",
       "4                               Come Softly to Me   \n",
       "...                                           ...   \n",
       "1052                                    As It Was   \n",
       "1053                                    Bad Habit   \n",
       "1054                                       Unholy   \n",
       "1055                                    Anti-Hero   \n",
       "1056              All I Want for Christmas Is You   \n",
       "\n",
       "                              Artist  \n",
       "0     The ChipmunkswithDavid Seville  \n",
       "1                       The Platters  \n",
       "2                        Lloyd Price  \n",
       "3                     Frankie Avalon  \n",
       "4                     The Fleetwoods  \n",
       "...                              ...  \n",
       "1052                    Harry Styles  \n",
       "1053                      Steve Lacy  \n",
       "1054          Sam SmithandKim Petras  \n",
       "1055                    Taylor Swift  \n",
       "1056                    Mariah Carey  \n",
       "\n",
       "[1057 rows x 2 columns]"
      ]
     },
     "execution_count": 10,
     "metadata": {},
     "output_type": "execute_result"
    }
   ],
   "source": [
    "start_year = 1959\n",
    "end_year = 2022\n",
    "df_wiki = scrape_wiki(start_year, end_year)\n",
    "df_wiki"
   ]
  }
 ],
 "metadata": {
  "kernelspec": {
   "display_name": "Python 3 (ipykernel)",
   "language": "python",
   "name": "python3"
  },
  "language_info": {
   "codemirror_mode": {
    "name": "ipython",
    "version": 3
   },
   "file_extension": ".py",
   "mimetype": "text/x-python",
   "name": "python",
   "nbconvert_exporter": "python",
   "pygments_lexer": "ipython3",
   "version": "3.9.13"
  }
 },
 "nbformat": 4,
 "nbformat_minor": 5
}
